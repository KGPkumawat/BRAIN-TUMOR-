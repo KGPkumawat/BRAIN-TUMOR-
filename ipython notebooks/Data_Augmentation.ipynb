{
  "nbformat": 4,
  "nbformat_minor": 0,
  "metadata": {
    "colab": {
      "name": "Data Augmentation.ipynb",
      "provenance": [],
      "toc_visible": true
    },
    "kernelspec": {
      "name": "python3",
      "display_name": "Python 3"
    }
  },
  "cells": [
    {
      "cell_type": "code",
      "metadata": {
        "id": "Mdd71a5e2AO3",
        "outputId": "be3a49de-5319-485c-dc54-49383e9d0545",
        "colab": {
          "base_uri": "https://localhost:8080/"
        }
      },
      "source": [
        "from google.colab import drive\n",
        "drive.mount('/content/drive')"
      ],
      "execution_count": 8,
      "outputs": [
        {
          "output_type": "stream",
          "text": [
            "Drive already mounted at /content/drive; to attempt to forcibly remount, call drive.mount(\"/content/drive\", force_remount=True).\n"
          ],
          "name": "stdout"
        }
      ]
    },
    {
      "cell_type": "markdown",
      "metadata": {
        "id": "oL87hLUW2jqG"
      },
      "source": [
        "\n",
        "**Data Augmentation**\n",
        "---\n",
        "**About the data:**\n",
        "---\n",
        "The dataset contains 2 folders: yes and no which contains 253 Brain MRI Images. The folder yes contains 155 Brain MRI Images that are tumorous and the folder no contains 98 Brain MRI Images that are non-tumorous. \n",
        "\n",
        "Since this is a small dataset, I used data augmentation in order to create more images.\n",
        "\n",
        "Also, we could solve the data imbalance issue (since 61% of the data belongs to the tumorous class) using data augmentation."
      ]
    },
    {
      "cell_type": "markdown",
      "metadata": {
        "id": "LUZz-BMS2ySv"
      },
      "source": [
        "**Import Necessary Modules**"
      ]
    },
    {
      "cell_type": "code",
      "metadata": {
        "id": "EB5lA-gS2zl5"
      },
      "source": [
        "import tensorflow as tf\n",
        "from keras.preprocessing.image import ImageDataGenerator\n",
        "import cv2\n",
        "import imutils\n",
        "import matplotlib.pyplot as plt\n",
        "from os import listdir\n",
        "import time    \n",
        "import os\n",
        "%matplotlib inline"
      ],
      "execution_count": 17,
      "outputs": []
    },
    {
      "cell_type": "markdown",
      "metadata": {
        "id": "o5Zf_x5fAzVd"
      },
      "source": [
        "Chnage the Directory"
      ]
    },
    {
      "cell_type": "code",
      "metadata": {
        "id": "WF3n1ipo-UVZ",
        "outputId": "7a285e77-a6a8-4d19-8b10-3ba5bec2d9f1",
        "colab": {
          "base_uri": "https://localhost:8080/"
        }
      },
      "source": [
        "!pwd\n",
        "import os\n",
        "os.chdir('/content/drive/My Drive/')\n",
        "!pwd"
      ],
      "execution_count": 29,
      "outputs": [
        {
          "output_type": "stream",
          "text": [
            "/content/drive/My Drive\n",
            "/content/drive/My Drive\n"
          ],
          "name": "stdout"
        }
      ]
    },
    {
      "cell_type": "markdown",
      "metadata": {
        "id": "DXV3Xip1A5eY"
      },
      "source": [
        "Make new directory to store generated images "
      ]
    },
    {
      "cell_type": "code",
      "metadata": {
        "id": "Ti3XKNfF_OyF"
      },
      "source": [
        "os.mkdir('augmented data')\n"
      ],
      "execution_count": null,
      "outputs": []
    },
    {
      "cell_type": "code",
      "metadata": {
        "id": "FGB15NNM_0iF"
      },
      "source": [
        "os.chdir('/content/drive/My Drive/augmented data')\n",
        "os.mkdir('yes')\n",
        "os.mkdir('no')"
      ],
      "execution_count": 34,
      "outputs": []
    },
    {
      "cell_type": "code",
      "metadata": {
        "id": "NYdiruCV29we"
      },
      "source": [
        "def augment_data(file_dir, n_generated_samples, save_to_dir):\n",
        "    \n",
        "    #from keras.preprocessing.image import ImageDataGenerator\n",
        "    #from os import listdir\n",
        "    \n",
        "    data_gen = ImageDataGenerator(rotation_range=10, \n",
        "                                  width_shift_range=0.1, \n",
        "                                  height_shift_range=0.1, \n",
        "                                  shear_range=0.1, \n",
        "                                  brightness_range=(0.3, 1.0),\n",
        "                                  horizontal_flip=True, \n",
        "                                  vertical_flip=True, \n",
        "                                  fill_mode='nearest'\n",
        "                                 )\n",
        "\n",
        "    \n",
        "    for filename in listdir(file_dir):\n",
        "        # load the image\n",
        "        image = cv2.imread(file_dir + '/' + filename)\n",
        "        # reshape the image\n",
        "        image = image.reshape((1,)+image.shape)\n",
        "        # prefix of the names for the generated sampels.\n",
        "        save_prefix = 'aug_' + filename[:-4]\n",
        "        # generate 'n_generated_samples' sample images\n",
        "        i=0\n",
        "        for batch in data_gen.flow(x=image, batch_size=1, save_to_dir=save_to_dir, \n",
        "                                           save_prefix=save_prefix, save_format='jpg'):\n",
        "            i += 1\n",
        "            if i > n_generated_samples:\n",
        "                break"
      ],
      "execution_count": 35,
      "outputs": []
    },
    {
      "cell_type": "markdown",
      "metadata": {
        "id": "PaRfDmPJ3QA3"
      },
      "source": [
        "\n",
        "Remember that 61% of the data (155 images) are tumorous. And, 39% of the data (98 images) are non-tumorous.\n",
        "So, in order to balance the data we can generate 9 new images for every image that belongs to 'no' class and 6 images for every image that belongs the 'yes' class."
      ]
    },
    {
      "cell_type": "code",
      "metadata": {
        "id": "T1hwD1fp3T3G"
      },
      "source": [
        "\n",
        "augmented_data_path = '/content/drive/My Drive/augmented data/'\n",
        "# augment data for the examples with label equal to 'yes' representing tumurous examples\n",
        "augment_data(file_dir='/content/drive/My Drive/brain_tumor_dataset/yes', n_generated_samples=6, save_to_dir='/content/drive/My Drive/augmented data/yes/')\n",
        "# augment data for the examples with label equal to 'no' representing non-tumurous examples\n",
        "augment_data(file_dir='/content/drive/My Drive/brain_tumor_dataset/no', n_generated_samples=9, save_to_dir='/content/drive/My Drive/augmented data/no/')"
      ],
      "execution_count": 36,
      "outputs": []
    },
    {
      "cell_type": "markdown",
      "metadata": {
        "id": "e684aBQL3ewR"
      },
      "source": [
        "Let's see how many tumorous and non-tumorous examples after performing data augmentation:"
      ]
    },
    {
      "cell_type": "code",
      "metadata": {
        "id": "pRAoHEIs3iW3"
      },
      "source": [
        "def data_summary(main_path):\n",
        "    \n",
        "    yes_path = main_path+'/yes'\n",
        "    no_path = main_path+'/no'\n",
        "        \n",
        "    # number of files (images) that are in the the folder named 'yes' that represent tumorous (positive) examples\n",
        "    m_pos = len(listdir(yes_path))\n",
        "    # number of files (images) that are in the the folder named 'no' that represent non-tumorous (negative) examples\n",
        "    m_neg = len(listdir(no_path))\n",
        "    # number of all examples\n",
        "    m = (m_pos+m_neg)\n",
        "    \n",
        "    pos_prec = (m_pos* 100.0)/ m\n",
        "    neg_prec = (m_neg* 100.0)/ m\n",
        "    \n",
        "    print(f\"Number of examples: {m}\")\n",
        "    print(f\"Percentage of positive examples: {pos_prec}%, number of pos examples: {m_pos}\") \n",
        "    print(f\"Percentage of negative examples: {neg_prec}%, number of neg examples: {m_neg}\")"
      ],
      "execution_count": 37,
      "outputs": []
    },
    {
      "cell_type": "code",
      "metadata": {
        "id": "BOxCOFSi3l7_",
        "outputId": "34180f9e-f709-4820-d7e2-34f415177af5",
        "colab": {
          "base_uri": "https://localhost:8080/"
        }
      },
      "source": [
        "data_summary(augmented_data_path)"
      ],
      "execution_count": 38,
      "outputs": [
        {
          "output_type": "stream",
          "text": [
            "Number of examples: 2064\n",
            "Percentage of positive examples: 52.51937984496124%, number of pos examples: 1084\n",
            "Percentage of negative examples: 47.48062015503876%, number of neg examples: 980\n"
          ],
          "name": "stdout"
        }
      ]
    }
  ]
}